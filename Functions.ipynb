{
  "nbformat": 4,
  "nbformat_minor": 0,
  "metadata": {
    "colab": {
      "provenance": []
    },
    "kernelspec": {
      "name": "python3",
      "display_name": "Python 3"
    },
    "language_info": {
      "name": "python"
    }
  },
  "cells": [
    {
      "cell_type": "code",
      "execution_count": null,
      "metadata": {
        "id": "QeyiFseBLVqG"
      },
      "outputs": [],
      "source": []
    },
    {
      "cell_type": "markdown",
      "source": [
        "#Functions\n",
        "\n"
      ],
      "metadata": {
        "id": "0ACd-OvhSsEs"
      }
    },
    {
      "cell_type": "markdown",
      "source": [
        "1. What is the difference between a function and method in the pyhthon\n",
        "   - Function is independent and can be called from anywhere while method is tied to and object or material within that class.\n",
        "\n"
      ],
      "metadata": {
        "id": "uw3rXTNcUQXd"
      }
    },
    {
      "cell_type": "markdown",
      "source": [
        "2. What is the second question\n",
        "   - This is the answer to the second question.\n"
      ],
      "metadata": {
        "id": "QNFrSosPVYsO"
      }
    }
  ]
}